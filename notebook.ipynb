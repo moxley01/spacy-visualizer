{
 "cells": [
  {
   "cell_type": "markdown",
   "metadata": {},
   "source": []
  },
  {
   "cell_type": "markdown",
   "metadata": {},
   "source": []
  },
  {
   "cell_type": "code",
   "execution_count": 4,
   "metadata": {},
   "outputs": [
    {
     "ename": "FileNotFoundError",
     "evalue": "[Errno 2] No such file or directory: './client/build/index.html'",
     "output_type": "error",
     "traceback": [
      "\u001b[0;31m---------------------------------------------------------------------------\u001b[0m",
      "\u001b[0;31mFileNotFoundError\u001b[0m                         Traceback (most recent call last)",
      "Cell \u001b[0;32mIn[4], line 7\u001b[0m\n\u001b[1;32m      4\u001b[0m nlp \u001b[39m=\u001b[39m spacy\u001b[39m.\u001b[39mload(\u001b[39m\"\u001b[39m\u001b[39men_core_web_sm\u001b[39m\u001b[39m\"\u001b[39m)\n\u001b[1;32m      5\u001b[0m doc \u001b[39m=\u001b[39m nlp(\u001b[39m\"\u001b[39m\u001b[39mThis is great. Don\u001b[39m\u001b[39m'\u001b[39m\u001b[39mt you think so?\u001b[39m\u001b[39m\"\u001b[39m)\n\u001b[0;32m----> 7\u001b[0m render(doc, width\u001b[39m=\u001b[39;49m\u001b[39m\"\u001b[39;49m\u001b[39m500\u001b[39;49m\u001b[39m\"\u001b[39;49m, height\u001b[39m=\u001b[39;49m\u001b[39m\"\u001b[39;49m\u001b[39m500\u001b[39;49m\u001b[39m\"\u001b[39;49m)\n",
      "File \u001b[0;32m~/dev/jupyter-starter/spacysee/src/spacysee.py:13\u001b[0m, in \u001b[0;36mrender\u001b[0;34m(doc, width, height, dev)\u001b[0m\n\u001b[1;32m     11\u001b[0m     display_dev(data, width, height)\n\u001b[1;32m     12\u001b[0m \u001b[39melse\u001b[39;00m:\n\u001b[0;32m---> 13\u001b[0m     display_prod(data, width, height)\n",
      "File \u001b[0;32m~/dev/jupyter-starter/spacysee/src/spacysee.py:18\u001b[0m, in \u001b[0;36mdisplay_prod\u001b[0;34m(data, width, height)\u001b[0m\n\u001b[1;32m     16\u001b[0m \u001b[39mdef\u001b[39;00m \u001b[39mdisplay_prod\u001b[39m(data: \u001b[39mlist\u001b[39m, width: \u001b[39mint\u001b[39m, height: \u001b[39mint\u001b[39m):\n\u001b[1;32m     17\u001b[0m     \u001b[39m# read the text content of build/index.html\u001b[39;00m\n\u001b[0;32m---> 18\u001b[0m     \u001b[39mwith\u001b[39;00m \u001b[39mopen\u001b[39;49m(\u001b[39m\"\u001b[39;49m\u001b[39m./client/build/index.html\u001b[39;49m\u001b[39m\"\u001b[39;49m, \u001b[39m\"\u001b[39;49m\u001b[39mr\u001b[39;49m\u001b[39m\"\u001b[39;49m) \u001b[39mas\u001b[39;00m f:\n\u001b[1;32m     19\u001b[0m         markup \u001b[39m=\u001b[39m f\u001b[39m.\u001b[39mread()\n\u001b[1;32m     21\u001b[0m     js_code \u001b[39m=\u001b[39m \u001b[39m\"\"\"\u001b[39m\n\u001b[1;32m     22\u001b[0m \u001b[39m        <iframe width=\u001b[39m\u001b[39m'\u001b[39m\u001b[39m{width}\u001b[39;00m\u001b[39m'\u001b[39m\u001b[39m height=\u001b[39m\u001b[39m'\u001b[39m\u001b[39m{height}\u001b[39;00m\u001b[39m'\u001b[39m\u001b[39m sandbox=\u001b[39m\u001b[39m'\u001b[39m\u001b[39mallow-scripts\u001b[39m\u001b[39m'\u001b[39m\u001b[39m srcdoc=\u001b[39m\u001b[39m'\u001b[39m\n\u001b[1;32m     23\u001b[0m \u001b[39m            <script>\u001b[39m\n\u001b[0;32m   (...)\u001b[0m\n\u001b[1;32m     29\u001b[0m \u001b[39m        \u001b[39m\u001b[39m'\u001b[39m\u001b[39m</iframe>\u001b[39m\n\u001b[1;32m     30\u001b[0m \u001b[39m        \u001b[39m\u001b[39m\"\"\"\u001b[39m\u001b[39m.\u001b[39mformat(width\u001b[39m=\u001b[39mwidth, height\u001b[39m=\u001b[39mheight, data\u001b[39m=\u001b[39mhtml\u001b[39m.\u001b[39mescape(json\u001b[39m.\u001b[39mdumps(data)), markup\u001b[39m=\u001b[39mhtml\u001b[39m.\u001b[39mescape(markup))\n",
      "\u001b[0;31mFileNotFoundError\u001b[0m: [Errno 2] No such file or directory: './client/build/index.html'"
     ]
    }
   ],
   "source": [
    "from spacysee import render\n",
    "import spacy\n",
    "\n",
    "nlp = spacy.load(\"en_core_web_sm\")\n",
    "doc = nlp(\"This is great. Don't you think so?\")\n",
    "\n",
    "render(doc, width=\"500\", height=\"500\")"
   ]
  },
  {
   "cell_type": "code",
   "execution_count": null,
   "metadata": {},
   "outputs": [],
   "source": []
  }
 ],
 "metadata": {
  "kernelspec": {
   "display_name": "gec",
   "language": "python",
   "name": "python3"
  },
  "language_info": {
   "codemirror_mode": {
    "name": "ipython",
    "version": 3
   },
   "file_extension": ".py",
   "mimetype": "text/x-python",
   "name": "python",
   "nbconvert_exporter": "python",
   "pygments_lexer": "ipython3",
   "version": "3.9.13"
  },
  "orig_nbformat": 4
 },
 "nbformat": 4,
 "nbformat_minor": 2
}
