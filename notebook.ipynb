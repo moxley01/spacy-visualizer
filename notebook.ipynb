{
 "cells": [
  {
   "cell_type": "markdown",
   "metadata": {},
   "source": []
  },
  {
   "cell_type": "code",
   "execution_count": 13,
   "metadata": {},
   "outputs": [
    {
     "name": "stdout",
     "output_type": "stream",
     "text": [
      "rendering <!doctype html><html lang=\"en\"><head><meta charset=\"utf-8\"/><link rel=\"icon\" href=\"./build/favicon.ico\"/><meta name=\"viewport\" content=\"width=device-width,initial-scale=1\"/><meta name=\"theme-color\" content=\"#000000\"/><meta name=\"description\" content=\"Web site created using create-react-app\"/><link rel=\"apple-touch-icon\" href=\"./build/logo192.png\"/><link rel=\"manifest\" href=\"./build/manifest.json\"/><title>React App</title><script defer=\"defer\" src=\"./build/static/js/main.e4ed7969.js\"></script><link href=\"./build/static/css/main.22ae531e.css\" rel=\"stylesheet\"></head><body><noscript>You need to enable JavaScript to run this app.</noscript><div id=\"root\"></div></body></html>\n"
     ]
    },
    {
     "data": {
      "text/html": [
       "\n",
       "        <iframe srcdoc='<base href=\"http://localhost:3000/build/\"><script> window.__onready = function(setData) {\n",
       "                setData([{\"id\": \"sup\", \"text\": \"hell\"}, {\"id\": \"lads\", \"text\": \"world\"}, {\"id\": \"sup2\", \"text\": \"hello\"}, {\"id\": \"lads2\", \"text\": \"world\"}])\n",
       "            }</script><!doctype html><html lang=\"en\"><head><meta charset=\"utf-8\"/><link rel=\"icon\" href=\"./build/favicon.ico\"/><meta name=\"viewport\" content=\"width=device-width,initial-scale=1\"/><meta name=\"theme-color\" content=\"#000000\"/><meta name=\"description\" content=\"Web site created using create-react-app\"/><link rel=\"apple-touch-icon\" href=\"./build/logo192.png\"/><link rel=\"manifest\" href=\"./build/manifest.json\"/><title>React App</title><script defer=\"defer\" src=\"./build/static/js/main.e4ed7969.js\"></script><link href=\"./build/static/css/main.22ae531e.css\" rel=\"stylesheet\"></head><body><noscript>You need to enable JavaScript to run this app.</noscript><div id=\"root\"></div></body></html>\n",
       "        ' style='width:500px; height:400px'></iframe>\n",
       "    "
      ],
      "text/plain": [
       "<IPython.core.display.HTML object>"
      ]
     },
     "metadata": {},
     "output_type": "display_data"
    }
   ],
   "source": [
    "import json\n",
    "import os\n",
    "from IPython.display import IFrame, HTML, display\n",
    "\n",
    "\n",
    "def render(data):\n",
    "    # read the text content of build/index.html\n",
    "    with open(\"./build/index.html\", \"r\") as f:\n",
    "        html = f.read()\n",
    "\n",
    "    width = 500\n",
    "    height = 400\n",
    "    # get current working directory\n",
    "\n",
    "    js_code = \"\"\"\n",
    "        <iframe srcdoc='<base href=\"./\"><script> window.__onready = function(setData) {\n",
    "                setData(\"\"\" + json.dumps(data) + \"\"\")\n",
    "            }</script>\"\"\" + html + \"\"\"\n",
    "        ' style='width:{}px; height:{}px'></iframe>\n",
    "    \"\"\".format(width, height, data=data)\n",
    "\n",
    "    print('rendering', html)\n",
    "\n",
    "    display(HTML(js_code))\n",
    "        \n",
    "\n",
    "\n",
    "\n",
    "render([{\"id\": \"sup\", \"text\": \"hell\"}, {\"id\": \"lads\", \"text\": \"world\"}, {\"id\": \"sup2\", \"text\": \"hello\"}, {\"id\": \"lads2\", \"text\": \"world\"}])"
   ]
  },
  {
   "cell_type": "code",
   "execution_count": null,
   "metadata": {},
   "outputs": [],
   "source": []
  }
 ],
 "metadata": {
  "kernelspec": {
   "display_name": "gec",
   "language": "python",
   "name": "python3"
  },
  "language_info": {
   "codemirror_mode": {
    "name": "ipython",
    "version": 3
   },
   "file_extension": ".py",
   "mimetype": "text/x-python",
   "name": "python",
   "nbconvert_exporter": "python",
   "pygments_lexer": "ipython3",
   "version": "3.9.16"
  },
  "orig_nbformat": 4
 },
 "nbformat": 4,
 "nbformat_minor": 2
}
